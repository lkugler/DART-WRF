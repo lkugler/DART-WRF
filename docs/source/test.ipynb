{
 "cells": [
  {
   "cell_type": "markdown",
   "id": "09371891-3ca3-404e-aeb3-7b58b900f563",
   "metadata": {
    "tags": []
   },
   "source": [
    "# Test1"
   ]
  },
  {
   "cell_type": "code",
   "execution_count": 1,
   "id": "ab8f6d86-dc41-4d5c-b6d9-a9f396c1ec70",
   "metadata": {},
   "outputs": [],
   "source": [
    "import os, sys"
   ]
  },
  {
   "cell_type": "code",
   "execution_count": null,
   "id": "3bc1d633-cf91-46ad-96d2-256dda6fa335",
   "metadata": {},
   "outputs": [],
   "source": []
  },
  {
   "cell_type": "code",
   "execution_count": null,
   "id": "430aabb3-1079-4fc8-b9b8-b33ac311ae4f",
   "metadata": {},
   "outputs": [],
   "source": []
  }
 ],
 "metadata": {
  "kernelspec": {
   "display_name": "Anaconda2 (2019.10) - 2.7.16",
   "language": "python",
   "name": "anaconda22019.10-gcc-8.5.0"
  },
  "language_info": {
   "codemirror_mode": {
    "name": "ipython",
    "version": 2
   },
   "file_extension": ".py",
   "mimetype": "text/x-python",
   "name": "python",
   "nbconvert_exporter": "python",
   "pygments_lexer": "ipython2",
   "version": "2.7.16"
  }
 },
 "nbformat": 4,
 "nbformat_minor": 5
}
