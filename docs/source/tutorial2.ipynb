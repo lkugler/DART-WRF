{
 "cells": [
  {
   "cell_type": "markdown",
   "id": "02ac2a1f-272e-4f23-960d-e7f95d683b53",
   "metadata": {
    "tags": []
   },
   "source": [
    "# Test2"
   ]
  },
  {
   "cell_type": "code",
   "execution_count": 1,
   "id": "afdee309-2ee0-418d-89db-47d057386a29",
   "metadata": {},
   "outputs": [],
   "source": [
    "import os, sys"
   ]
  }
 ],
 "metadata": {
  "kernelspec": {
   "display_name": "nwp 2023.1 - 3.10",
   "language": "python",
   "name": "nwp2023.1"
  },
  "language_info": {
   "codemirror_mode": {
    "name": "ipython",
    "version": 3
   },
   "file_extension": ".py",
   "mimetype": "text/x-python",
   "name": "python",
   "nbconvert_exporter": "python",
   "pygments_lexer": "ipython3",
   "version": "3.10.9"
  }
 },
 "nbformat": 4,
 "nbformat_minor": 5
}
