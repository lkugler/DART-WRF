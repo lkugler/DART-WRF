{
 "cells": [
  {
   "cell_type": "markdown",
   "id": "09371891-3ca3-404e-aeb3-7b58b900f563",
   "metadata": {
    "tags": []
   },
   "source": [
    "# Test1"
   ]
  },
  {
   "cell_type": "code",
   "execution_count": 1,
   "id": "ab8f6d86-dc41-4d5c-b6d9-a9f396c1ec70",
   "metadata": {},
   "outputs": [],
   "source": [
    "import os, sys"
   ]
  },
  {
   "cell_type": "code",
   "execution_count": null,
   "id": "3bc1d633-cf91-46ad-96d2-256dda6fa335",
   "metadata": {},
   "outputs": [],
   "source": []
  }
 ],
 "metadata": {
  "kernelspec": {
   "display_name": "nwp 2023.1 - 3.10",
   "language": "python",
   "name": "nwp2023.1"
  },
  "language_info": {
   "codemirror_mode": {
    "name": "ipython",
    "version": 3
   },
   "file_extension": ".py",
   "mimetype": "text/x-python",
   "name": "python",
   "nbconvert_exporter": "python",
   "pygments_lexer": "ipython3",
   "version": "3.10.9"
  }
 },
 "nbformat": 4,
 "nbformat_minor": 5
}
