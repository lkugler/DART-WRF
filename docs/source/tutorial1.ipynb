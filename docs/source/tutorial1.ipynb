{
 "cells": [
  {
   "cell_type": "markdown",
   "id": "fd5c3005-f237-4495-9185-2d4d474cafd5",
   "metadata": {},
   "source": [
    "# DART-WRF introductory example\n",
    "DART-WRF is a python package which automates many things like configuration, saving configuration and output, handling computing resources, etc.\n",
    "\n",
    "**Goal**: Using a predefined configuration file, run an example of Data Assimilation.\n",
    "\n",
    "**What you need to know**:\n",
    "\n",
    "- There is a config/ folder with experimental configuration in config/cfg.py.\n",
    "- There is an example script analysis_only.py which handles the DA programs.\n",
    "\n",
    "**To-Do**:\n",
    "\n",
    "- Go into the DART-WRF folder that we created and installed last time.\n",
    "- Copy the configuration file from `` to your config/ folder.\n"
   ]
  },
  {
   "cell_type": "code",
   "execution_count": null,
   "id": "400244f1-098b-46ea-b29d-2226c7cbc827",
   "metadata": {},
   "outputs": [],
   "source": []
  }
 ],
 "metadata": {
  "kernelspec": {
   "display_name": "nwp 2023.1 - 3.10",
   "language": "python",
   "name": "nwp2023.1"
  },
  "language_info": {
   "codemirror_mode": {
    "name": "ipython",
    "version": 3
   },
   "file_extension": ".py",
   "mimetype": "text/x-python",
   "name": "python",
   "nbconvert_exporter": "python",
   "pygments_lexer": "ipython3",
   "version": "3.10.9"
  }
 },
 "nbformat": 4,
 "nbformat_minor": 5
}
