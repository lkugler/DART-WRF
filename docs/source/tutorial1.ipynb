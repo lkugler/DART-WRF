{
 "cells": [
  {
   "cell_type": "markdown",
   "id": "fd5c3005-f237-4495-9185-2d4d474cafd5",
   "metadata": {},
   "source": [
    "# Tutorial 1: The assimilation step\n",
    "DART-WRF is a python package which automates many things like configuration, saving configuration and output, handling computing resources, etc.\n",
    "\n",
    "**Goal**: Using a predefined configuration file, run an example of Data Assimilation.\n",
    "\n",
    "**What you need to know**:\n",
    "\n",
    "- There is a config/ folder with experimental configuration in config/cfg.py.\n",
    "- There is an example script analysis_only.py which handles the DA programs.\n",
    "\n",
    "**To-Do**:\n",
    "\n",
    "- Go into the DART-WRF folder that we created and installed last time.\n",
    "- Copy the configuration file from `` to your config/ folder.\n"
   ]
  },
  {
   "cell_type": "markdown",
   "id": "24b23d8c-29e6-484c-ad1f-f2bc07e66c66",
   "metadata": {},
   "source": [
    "We start by importing some modules:\n",
    "```python\n",
    "import os, sys, shutil\n",
    "import datetime as dt\n",
    "\n",
    "from dartwrf import utils\n",
    "from config.cfg import exp\n",
    "from config.clusters import cluster\n",
    "```\n",
    "\n",
    "Then, we set the directory paths and times of the prior ensemble forecasts:\n",
    "\n",
    "```python\n",
    "prior_path_exp = '/mnt/jetfs/scratch/lkugler/data/sim_archive/exp_v1.19_P3_wbub7_noDA'\n",
    "prior_init_time = dt.datetime(2008,7,30,12)\n",
    "prior_valid_time = dt.datetime(2008,7,30,12,30)\n",
    "assim_time = prior_valid_time\n",
    "```\n",
    "\n",
    "Finally, we run the data assimilation by calling\n",
    "```python\n",
    "cluster.setup()\n",
    "\n",
    "os.system(\n",
    "    cluster.python+' '+cluster.scripts_rundir+'/assim_synth_obs.py '\n",
    "                +assim_time.strftime('%Y-%m-%d_%H:%M ')\n",
    "                +prior_init_time.strftime('%Y-%m-%d_%H:%M ')\n",
    "                +prior_valid_time.strftime('%Y-%m-%d_%H:%M ')\n",
    "                +prior_path_exp\n",
    "    )\n",
    "\n",
    "create_satimages(time)\n",
    "```\n",
    "\n",
    "Congratulations! You're done!"
   ]
  },
  {
   "cell_type": "markdown",
   "id": "31b23faf-0986-407f-b07f-d635a71ec2c6",
   "metadata": {},
   "source": [
    "---\n",
    "#### Queueing systems\n",
    "Note: In case you have to use a queueing system, use the builtin job scheduler, e.g.:\n",
    "```python\n",
    "id = cluster.create_job(\"Assim\", \n",
    "                        cfg_update={\"ntasks\": \"12\", \"time\": \"60\", \"mem\": \"200G\", \n",
    "                                    \"ntasks-per-node\": \"12\", \"ntasks-per-core\": \"2\"}\n",
    "      ).run(cluster.python+' '+cluster.scripts_rundir+'/assim_synth_obs.py '\n",
    "           +assim_time.strftime('%Y-%m-%d_%H:%M ')\n",
    "           +prior_init_time.strftime('%Y-%m-%d_%H:%M ')\n",
    "           +prior_valid_time.strftime('%Y-%m-%d_%H:%M ')\n",
    "           +prior_path_exp, depends_on=[depends_on])\n",
    "```\n",
    "where `depends_on` is either `None` or `int` (a previous job's SLURM id)."
   ]
  },
  {
   "cell_type": "code",
   "execution_count": null,
   "id": "82e809a8-5972-47f3-ad78-6290afe4ae17",
   "metadata": {},
   "outputs": [],
   "source": []
  }
 ],
 "metadata": {
  "kernelspec": {
   "display_name": "nwp 2023.1 - 3.10",
   "language": "python",
   "name": "nwp2023.1"
  },
  "language_info": {
   "codemirror_mode": {
    "name": "ipython",
    "version": 3
   },
   "file_extension": ".py",
   "mimetype": "text/x-python",
   "name": "python",
   "nbconvert_exporter": "python",
   "pygments_lexer": "ipython3",
   "version": "3.10.9"
  }
 },
 "nbformat": 4,
 "nbformat_minor": 5
}
