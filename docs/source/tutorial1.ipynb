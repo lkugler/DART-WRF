{
 "cells": [
  {
   "cell_type": "code",
   "execution_count": 1,
   "id": "59276951-d31b-4c5d-bca3-fac762e663cc",
   "metadata": {},
   "outputs": [
    {
     "name": "stdout",
     "output_type": "stream",
     "text": [
      "['/mnt/users/staff/lkugler/AdvDA23/DART-WRF/docs/source', '/home/swd/manual/nwp/2023.1/lib/python310.zip', '/home/swd/manual/nwp/2023.1/lib/python3.10', '/home/swd/manual/nwp/2023.1/lib/python3.10/lib-dynload', '', '/users/staff/lkugler/.local/lib/python3.10/site-packages', '/home/swd/manual/nwp/2023.1/lib/python3.10/site-packages']\n"
     ]
    }
   ],
   "source": [
    "# Test\n",
    "import os, sys\n",
    "print(sys.path)"
   ]
  },
  {
   "cell_type": "code",
   "execution_count": null,
   "id": "feeeb389-8ec6-4186-8abd-d10a0c715e63",
   "metadata": {},
   "outputs": [],
   "source": []
  }
 ],
 "metadata": {
  "kernelspec": {
   "display_name": "nwp 2023.1 - 3.10",
   "language": "python",
   "name": "nwp2023.1"
  },
  "language_info": {
   "codemirror_mode": {
    "name": "ipython",
    "version": 3
   },
   "file_extension": ".py",
   "mimetype": "text/x-python",
   "name": "python",
   "nbconvert_exporter": "python",
   "pygments_lexer": "ipython3",
   "version": "3.10.9"
  }
 },
 "nbformat": 4,
 "nbformat_minor": 5
}
