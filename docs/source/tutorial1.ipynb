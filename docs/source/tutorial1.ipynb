{
 "cells": [
  {
   "cell_type": "markdown",
   "id": "7df4195a-4a40-476a-9776-5865a84a2b8d",
   "metadata": {},
   "source": [
    "# Tutorial 1: The assimilation step\n",
    "DART-WRF is a python package which automates many things like configuration, saving configuration and output, handling computing resources, etc.\n",
    "\n",
    "The data for this experiment is accessible for students on the server srvx1.\n"
   ]
  },
  {
   "cell_type": "code",
   "execution_count": null,
   "id": "feeeb389-8ec6-4186-8abd-d10a0c715e63",
   "metadata": {},
   "outputs": [],
   "source": []
  }
 ],
 "metadata": {
  "kernelspec": {
   "display_name": "nwp 2023.1 - 3.10",
   "language": "python",
   "name": "nwp2023.1"
  },
  "language_info": {
   "codemirror_mode": {
    "name": "ipython",
    "version": 3
   },
   "file_extension": ".py",
   "mimetype": "text/x-python",
   "name": "python",
   "nbconvert_exporter": "python",
   "pygments_lexer": "ipython3",
   "version": "3.10.9"
  }
 },
 "nbformat": 4,
 "nbformat_minor": 5
}
