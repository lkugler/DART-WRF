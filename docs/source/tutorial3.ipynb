{
 "cells": [
  {
   "cell_type": "markdown",
   "id": "8ced2b8b-6829-4b16-acb7-03fd1b8b0ff8",
   "metadata": {
    "tags": []
   },
   "source": [
    "# Test3"
   ]
  },
  {
   "cell_type": "code",
   "execution_count": 1,
   "id": "b8d43e28-c9cb-403e-915c-79266b5a03c7",
   "metadata": {},
   "outputs": [],
   "source": [
    "import os, sys"
   ]
  }
 ],
 "metadata": {
  "kernelspec": {
   "display_name": "nwp 2023.1 - 3.10",
   "language": "python",
   "name": "nwp2023.1"
  },
  "language_info": {
   "codemirror_mode": {
    "name": "ipython",
    "version": 3
   },
   "file_extension": ".py",
   "mimetype": "text/x-python",
   "name": "python",
   "nbconvert_exporter": "python",
   "pygments_lexer": "ipython3",
   "version": "3.10.9"
  }
 },
 "nbformat": 4,
 "nbformat_minor": 5
}
